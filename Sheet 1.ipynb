{
 "cells": [
  {
   "cell_type": "code",
   "execution_count": 7,
   "metadata": {},
   "outputs": [],
   "source": [
    "#write a program that is add two numbers"
   ]
  },
  {
   "cell_type": "code",
   "execution_count": 4,
   "metadata": {},
   "outputs": [
    {
     "name": "stdout",
     "output_type": "stream",
     "text": [
      "please enter first number1\n",
      "please enter first number1\n",
      "the sum is : 2\n"
     ]
    }
   ],
   "source": [
    "x=int(input(\"please enter first number : \"))\n",
    "y=int(input(\"please enter first number : \"))\n",
    "print(\"the sum is : \"+str((x+y)))"
   ]
  },
  {
   "cell_type": "code",
   "execution_count": 8,
   "metadata": {},
   "outputs": [],
   "source": [
    "#write a program to swap the value of two variables"
   ]
  },
  {
   "cell_type": "code",
   "execution_count": 12,
   "metadata": {},
   "outputs": [
    {
     "name": "stdout",
     "output_type": "stream",
     "text": [
      "the x value is =x\n",
      "the y value is =y\n",
      "the x value after swap is =y\n",
      "the y value after swap is =x\n"
     ]
    }
   ],
   "source": [
    "x = \"x\"\n",
    "y=\"y\"\n",
    "print(\"the x value is =\"+x)\n",
    "print(\"the y value is =\"+y)\n",
    "x,y=y,x\n",
    "#z=x\n",
    "#x=y\n",
    "#y=z\n",
    "print(\"the x value after swap is =\"+x)\n",
    "print(\"the y value after swap is =\"+y)"
   ]
  },
  {
   "cell_type": "code",
   "execution_count": 11,
   "metadata": {},
   "outputs": [],
   "source": [
    "#write a program that is find the largest amoung three number"
   ]
  },
  {
   "cell_type": "code",
   "execution_count": 24,
   "metadata": {},
   "outputs": [
    {
     "name": "stdout",
     "output_type": "stream",
     "text": [
      "the begst valuse is :  3\n"
     ]
    }
   ],
   "source": [
    "x=1\n",
    "y=2\n",
    "z=3\n",
    "\"\"\"if x>y:\n",
    " print (x)\n",
    "elif y>z:\n",
    " print (y)\n",
    "else:\n",
    " print (z)\"\"\"\n",
    "#or \n",
    "if x>y and x>z:\n",
    "    print (\"the begst valuse is : \", x)\n",
    "elif y>x and y>z:\n",
    "    print(\"the begst valuse is : \",y)\n",
    "else:\n",
    "    print(\"the begst valuse is : \",z)"
   ]
  },
  {
   "cell_type": "code",
   "execution_count": 25,
   "metadata": {},
   "outputs": [],
   "source": [
    "#Given an array of integars , find the sum of its element"
   ]
  },
  {
   "cell_type": "code",
   "execution_count": 39,
   "metadata": {},
   "outputs": [
    {
     "name": "stdout",
     "output_type": "stream",
     "text": [
      "45\n"
     ]
    }
   ],
   "source": [
    "x = [1,2,3,4,5,6,7,8,9]\n",
    "sum = 0\n",
    "\n",
    "\"\"\"for i in range(0,9,1) :\n",
    "    sum += x[i]\n",
    "print (sum)\"\"\"\n",
    "\n",
    "for i in x :\n",
    "    sum += i\n",
    "print (sum)"
   ]
  },
  {
   "cell_type": "code",
   "execution_count": 40,
   "metadata": {},
   "outputs": [],
   "source": [
    "#The assignment"
   ]
  },
  {
   "cell_type": "code",
   "execution_count": 46,
   "metadata": {},
   "outputs": [],
   "source": [
    "#1- Given an array , find the largest element in it ."
   ]
  },
  {
   "cell_type": "code",
   "execution_count": 47,
   "metadata": {},
   "outputs": [
    {
     "name": "stdout",
     "output_type": "stream",
     "text": [
      "the biggest number in array is :  999\n"
     ]
    }
   ],
   "source": [
    "#import math\n",
    "x = [11,12,25,36,200,100,999,0,5]\n",
    "biggest = x[1]\n",
    "#biggest = -math.inf\n",
    "for i in x :\n",
    "    if i>biggest:\n",
    "        biggest = i\n",
    "print(\"the biggest number in array is : \",biggest)        \n",
    "    "
   ]
  },
  {
   "cell_type": "code",
   "execution_count": 48,
   "metadata": {},
   "outputs": [],
   "source": [
    "#print 1 to 10 and the invers using for , while loop"
   ]
  },
  {
   "cell_type": "code",
   "execution_count": 65,
   "metadata": {},
   "outputs": [
    {
     "name": "stdout",
     "output_type": "stream",
     "text": [
      "1 2 3 4 5 6 7 8 9 10 \n",
      "10 9 8 7 6 5 4 3 2 1 \n",
      "1 2 3 4 5 6 7 8 9 10 \n",
      "10 9 8 7 6 5 4 3 2 1 "
     ]
    }
   ],
   "source": [
    "for i in range(1,11,1):\n",
    "    print(i,end=\" \")\n",
    "    \n",
    "print()\n",
    "for i in range(10,0,-1):\n",
    "    print(i,end=\" \")\n",
    "    \n",
    "x=1\n",
    "print()\n",
    "while x<11:\n",
    "    print(x,end=\" \")\n",
    "    x+=1\n",
    "    \n",
    "x=10\n",
    "print()\n",
    "while x>0:\n",
    "    print(x,end=\" \")\n",
    "    x-=1"
   ]
  },
  {
   "cell_type": "code",
   "execution_count": null,
   "metadata": {},
   "outputs": [],
   "source": []
  }
 ],
 "metadata": {
  "kernelspec": {
   "display_name": "Python 3",
   "language": "python",
   "name": "python3"
  },
  "language_info": {
   "codemirror_mode": {
    "name": "ipython",
    "version": 3
   },
   "file_extension": ".py",
   "mimetype": "text/x-python",
   "name": "python",
   "nbconvert_exporter": "python",
   "pygments_lexer": "ipython3",
   "version": "3.8.3"
  }
 },
 "nbformat": 4,
 "nbformat_minor": 4
}
